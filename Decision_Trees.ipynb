{
 "cells": [
  {
   "cell_type": "markdown",
   "metadata": {
    "nbgrader": {
     "grade": false,
     "grade_id": "cell-6bd0516e7cb654f5",
     "locked": true,
     "schema_version": 1,
     "solution": false
    }
   },
   "source": [
    "# Exercise 2: Decision Trees\n",
    "1. Practice OOP in python.\n",
    "2. Implement two impurity measures: Gini and Entropy.\n",
    "3. Construct a decision tree algorithm.\n",
    "4. Prune the tree to achieve better results.\n",
    "5. Visualize your results."
   ]
  },
  {
   "cell_type": "code",
   "execution_count": 1,
   "metadata": {
    "nbgrader": {
     "grade": false,
     "grade_id": "cell-ed9fe7b1026e33cb",
     "locked": true,
     "schema_version": 1,
     "solution": false
    }
   },
   "outputs": [],
   "source": [
    "import numpy as np\n",
    "import pandas as pd\n",
    "import matplotlib.pyplot as plt\n",
    "\n",
    "# make matplotlib figures appear inline in the notebook\n",
    "%matplotlib inline\n",
    "plt.rcParams['figure.figsize'] = (10.0, 8.0) # set default size of plots\n",
    "plt.rcParams['image.interpolation'] = 'nearest'\n",
    "plt.rcParams['image.cmap'] = 'gray'\n",
    "\n",
    "# Ignore warnings\n",
    "import warnings\n",
    "warnings.filterwarnings('ignore')"
   ]
  },
  {
   "cell_type": "code",
   "execution_count": 2,
   "metadata": {},
   "outputs": [],
   "source": [
    "class Node(object):\n",
    "    def __init__(self, data):\n",
    "        self.data = data\n",
    "        self.children = []\n",
    "\n",
    "    def add_child(self, node):\n",
    "        self.children.append(node)\n"
   ]
  },
  {
   "cell_type": "code",
   "execution_count": 3,
   "metadata": {},
   "outputs": [],
   "source": [
    "n = Node(5)\n",
    "p = Node(6)\n",
    "q = Node(7)\n",
    "n.add_child(p)\n",
    "n.add_child(q)\n"
   ]
  },
  {
   "cell_type": "markdown",
   "metadata": {
    "nbgrader": {
     "grade": false,
     "grade_id": "cell-2f1ceb251c649b62",
     "locked": true,
     "schema_version": 1,
     "solution": false
    }
   },
   "source": [
    "## Data preprocessing\n",
    "\n",
    "For the following exercise, we will use a dataset containing mushroom data `agaricus-lepiota.csv`. \n",
    "\n",
    "This data set includes descriptions of hypothetical samples corresponding to 23 species of gilled mushrooms in the Agaricus and Lepiota Family. Each species is identified as definitely edible, definitely poisonous, or of unknown edibility and not recommended. This latter class was combined with the poisonous\n",
    "one (=there are only two classes **edible** and **poisonous**). \n",
    "    \n",
    "The dataset contains 8124 observations with 22 features:\n",
    "1. cap-shape: bell=b,conical=c,convex=x,flat=f,knobbed=k,sunken=s\n",
    "2. cap-surface: fibrous=f,grooves=g,scaly=y,smooth=s\n",
    "3. cap-color: brown=n,buff=b,cinnamon=c,gray=g,green=r,pink=p,purple=u,red=e,white=w,yellow=y\n",
    "4. bruises: bruises=t,no=f\n",
    "5. odor: almond=a,anise=l,creosote=c,fishy=y,foul=f, musty=m,none=n,pungent=p,spicy=s\n",
    "6. gill-attachment: attached=a,descending=d,free=f,notched=n\n",
    "7. gill-spacing: close=c,crowded=w,distant=d\n",
    "8. gill-size: broad=b,narrow=n\n",
    "9. gill-color: black=k,brown=n,buff=b,chocolate=h,gray=g,green=r,orange=o,pink=p,purple=u,red=e,white=w,yellow=y\n",
    "10. stalk-shape: enlarging=e,tapering=t\n",
    "11. stalk-root: bulbous=b,club=c,cup=u,equal=e,rhizomorphs=z,rooted=r\n",
    "12. stalk-surface-above-ring: fibrous=f,scaly=y,silky=k,smooth=s\n",
    "13. stalk-surface-below-ring: fibrous=f,scaly=y,silky=k,smooth=s\n",
    "14. stalk-color-above-ring: brown=n,buff=b,cinnamon=c,gray=g,orange=o,pink=p,red=e,white=w,yellow=y\n",
    "15. stalk-color-below-ring: brown=n,buff=b,cinnamon=c,gray=g,orange=o,pink=p,red=e,white=w,yellow=y\n",
    "16. veil-type: partial=p,universal=u\n",
    "17. veil-color: brown=n,orange=o,white=w,yellow=y\n",
    "18. ring-number: none=n,one=o,two=t\n",
    "19. ring-type: cobwebby=c,evanescent=e,flaring=f,large=l,none=n,pendant=p,sheathing=s,zone=z\n",
    "20. spore-print-color: black=k,brown=n,buff=b,chocolate=h,green=r,orange=o,purple=u,white=w,yellow=y\n",
    "21. population: abundant=a,clustered=c,numerous=n,scattered=s,several=v,solitary=y\n",
    "22. habitat: grasses=g,leaves=l,meadows=m,paths=p,urban=u,waste=w,woods=d\n",
    "\n",
    "First, we will read and explore the data using pandas and the `.read_csv` method. Pandas is an open source library providing high-performance, easy-to-use data structures and data analysis tools for the Python programming language."
   ]
  },
  {
   "cell_type": "code",
   "execution_count": 4,
   "metadata": {
    "nbgrader": {
     "grade": false,
     "grade_id": "cell-d79cb4542926ad3f",
     "locked": true,
     "schema_version": 1,
     "solution": false
    }
   },
   "outputs": [
    {
     "data": {
      "text/plain": [
       "(8124, 22)"
      ]
     },
     "execution_count": 4,
     "metadata": {},
     "output_type": "execute_result"
    }
   ],
   "source": [
    "# load dataset\n",
    "data = pd.read_csv('agaricus-lepiota.csv')\n",
    "data.shape"
   ]
  },
  {
   "cell_type": "markdown",
   "metadata": {},
   "source": [
    "One of the advantages of the Decision Tree algorithm is that almost no preprocessing is required. However, finding missing values is always required."
   ]
  },
  {
   "cell_type": "code",
   "execution_count": 5,
   "metadata": {},
   "outputs": [],
   "source": [
    "#############################################################################\n",
    "# TODO: Find columns with missing values and remove them from the data.#\n",
    "#############################################################################\n",
    "\n",
    "# Drop rows with null values\n",
    "data = data.dropna(axis=0, how='any')\n",
    "\n",
    "#############################################################################\n",
    "#                             END OF YOUR CODE                              #\n",
    "#############################################################################"
   ]
  },
  {
   "cell_type": "markdown",
   "metadata": {},
   "source": [
    "We will split the dataset to `Training` and `Testing` datasets."
   ]
  },
  {
   "cell_type": "code",
   "execution_count": 6,
   "metadata": {},
   "outputs": [
    {
     "name": "stdout",
     "output_type": "stream",
     "text": [
      "Training dataset shape:  (6093, 22)\n",
      "Testing dataset shape:  (2031, 22)\n"
     ]
    }
   ],
   "source": [
    "from sklearn.model_selection import train_test_split\n",
    "\n",
    "# Making sure the last column will hold the labels\n",
    "X, y = data.drop('class', axis=1), data['class']\n",
    "X = np.column_stack([X,y])\n",
    "# split dataset using random_state to get the same split each time\n",
    "X_train, X_test = train_test_split(X, random_state=99)\n",
    "\n",
    "print(\"Training dataset shape: \", X_train.shape)\n",
    "print(\"Testing dataset shape: \", X_test.shape)\n",
    "   "
   ]
  },
  {
   "cell_type": "code",
   "execution_count": 7,
   "metadata": {},
   "outputs": [
    {
     "data": {
      "text/plain": [
       "(8124,)"
      ]
     },
     "execution_count": 7,
     "metadata": {},
     "output_type": "execute_result"
    }
   ],
   "source": [
    "y.shape"
   ]
  },
  {
   "cell_type": "markdown",
   "metadata": {
    "nbgrader": {
     "grade": false,
     "grade_id": "cell-fd7b0191f3f1e897",
     "locked": true,
     "schema_version": 1,
     "solution": false
    }
   },
   "source": [
    "## Impurity Measures\n",
    "\n",
    "Impurity is a measure of how often a randomly chosen element from the set would be incorrectly labeled if it was randomly labeled according to the distribution of labels in the subset. Implement the functions `calc_gini` and `calc_entropy`. You are encouraged to test your implementation (10 points)."
   ]
  },
  {
   "cell_type": "code",
   "execution_count": 8,
   "metadata": {},
   "outputs": [],
   "source": [
    "def calc_gini(data):\n",
    "    \"\"\"\n",
    "    Calculate gini impurity measure of a dataset.\n",
    " \n",
    "    Input:\n",
    "    - data: any dataset where the last column holds the labels.\n",
    " \n",
    "    Returns the gini impurity.    \n",
    "    \"\"\"\n",
    "    gini = 0.0\n",
    "    ###########################################################################\n",
    "    # TODO: Implement the function.                                           #\n",
    "    ###########################################################################\n",
    "    gini = 1.0\n",
    "    #conveting to pd, so we could use valuecounts to calc pi for every class under last colum\n",
    "    #last_column = pd.DataFrame(data[:,-1]) \n",
    "    #numofclasses=last_column.value_counts().shape[0]\n",
    "    #for i in range (numofclasses):\n",
    "    #    gini -= (last_column.value_counts(normalize=True)[i])**2\n",
    "    clm=data[:,-1]\n",
    "    attributes = np.unique(clm)\n",
    "    for attribute in attributes:\n",
    "        gini -= (data[data[:,-1]==attribute].shape[0]/data.shape[0])**2\n",
    "\n",
    "    \n",
    "    ###########################################################################\n",
    "    #                             END OF YOUR CODE                            #\n",
    "    ###########################################################################\n",
    "    return gini"
   ]
  },
  {
   "cell_type": "code",
   "execution_count": 9,
   "metadata": {},
   "outputs": [],
   "source": [
    "def calc_entropy(data):\n",
    "    \"\"\"\n",
    "    Calculate the entropy of a dataset.\n",
    "\n",
    "    Input:\n",
    "    - data: any dataset where the last column holds the labels.\n",
    "\n",
    "    Returns the entropy of the dataset.    \n",
    "    \"\"\"\n",
    "    entropy = 0.0\n",
    "    ###########################################################################\n",
    "    # TODO: Implement the function.                                           #\n",
    "    ###########################################################################\n",
    "    entropy = 0.0\n",
    "    clm=data[:,-1]\n",
    "    attributes = np.unique(clm)\n",
    "    for attribute in attributes:\n",
    "        pi=data[data[:,-1]==attribute].shape[0]/data.shape[0]\n",
    "        entropy -= pi*np.log2(pi)\n",
    "    ###########################################################################\n",
    "    #                             END OF YOUR CODE                            #\n",
    "    ###########################################################################\n",
    "    return entropy"
   ]
  },
  {
   "cell_type": "code",
   "execution_count": 10,
   "metadata": {
    "scrolled": true
   },
   "outputs": [
    {
     "data": {
      "text/plain": [
       "(0.4986495925285732, 0.0)"
      ]
     },
     "execution_count": 10,
     "metadata": {},
     "output_type": "execute_result"
    }
   ],
   "source": [
    "##### Your Tests Here #####\n",
    "#print(X[X[:,-1]==\"p\"])\n",
    "#print(X[X[:,-2]==\"p\"])\n",
    "\n",
    "calc_gini(X[X[:,0]==\"x\"]), calc_entropy(X[X[:,21]==\"e\"])\n",
    "#print(X[X[:,1]==\"s\"])\n",
    "\n"
   ]
  },
  {
   "cell_type": "markdown",
   "metadata": {},
   "source": [
    "## Goodness of Split\n",
    "\n",
    "Given a feature the Goodnees of Split measures the reduction in the impurity if we split the data according to the feature.\n",
    "$$\n",
    "\\Delta\\varphi(S, A) = \\varphi(S) - \\sum_{v\\in Values(A)} \\frac{|S_v|}{|S|}\\varphi(S_v)\n",
    "$$\n",
    "\n",
    "In our implementation the goodness_of_split function will return either the Goodness of Split or the Gain Ratio as learned in class. You'll control the return value with the `gain_ratio` parameter. If this parameter will set to False (the default value) it will return the regular Goodness of Split. If it will set to True it will return the Gain Ratio.\n",
    "$$\n",
    "GainRatio(S,A)=\\frac{InformationGain(S,A)}{SplitInformation(S,A)}\n",
    "$$\n",
    "Where:\n",
    "$$\n",
    "InformationGain(S,A)=Goodness\\ of\\ Split\\ calculated\\ with\\ Entropy\\ as\\ the\\ Impurity\\ function \\\\\n",
    "SplitInformation(S,A)=- \\sum_{a\\in A} \\frac{|S_a|}{|S|}\\log\\frac{|S_a|}{|S|}\n",
    "$$\n",
    "NOTE: you can add more parameters to the function and you can also add more returning variables (The given parameters and the given returning variable should not be touch). (10 Points)"
   ]
  },
  {
   "cell_type": "code",
   "execution_count": 12,
   "metadata": {},
   "outputs": [],
   "source": [
    "#define the Split in Information func, very similar to clac_entrpoy, will be used in the next block of code\n",
    "def split_in_information(data, feature):\n",
    "    entropy = 0.0\n",
    "    clm=data[:,feature]\n",
    "    attributes = np.unique(clm)\n",
    "    for attribute in attributes:\n",
    "        pi=data[data[:,feature]==attribute].shape[0]/data.shape[0]\n",
    "        entropy -= pi*np.log2(pi)\n",
    "    return entropy\n",
    "\n",
    "def goodness_of_split(data, feature, impurity_func, gain_ratio=False):\n",
    "    \"\"\"\n",
    "    Calculate the goodness of split of a dataset given a feature and impurity function.\n",
    "\n",
    "    Input:\n",
    "    - data: any dataset where the last column holds the labels.\n",
    "    - feature: the feature index.\n",
    "    - impurity func: a function that calculates the impurity.\n",
    "    - gain_ratio: goodness of split or gain ratio flag.\n",
    "\n",
    "    Returns the goodness of split (or the Gain Ration).  \n",
    "    \"\"\"\n",
    "    ###########################################################################\n",
    "    # TODO: Implement the function.                                           #\n",
    "    ###########################################################################\n",
    "    weighted_average = 0.0\n",
    "    #creating array of unique attributes \n",
    "    attributes = np.unique(data[:,feature])\n",
    "    for attribute in attributes:\n",
    "        weight = data[data[:,feature]==attribute].shape[0]/data.shape[0]\n",
    "        weighted_average += weight*impurity_func(data[data[:,feature]==attribute])\n",
    "    goodness = impurity_func(data) - weighted_average\n",
    "    if (gain_ratio):\n",
    "        goodness = goodness/split_in_information(data, feature)\n",
    "    ###########################################################################\n",
    "    #                             END OF YOUR CODE                            #\n",
    "    ###########################################################################\n",
    "    return goodness\n",
    "\n",
    "#print(goodness_of_split(X, -1, calc_gini))\n",
    "#print(X[X[:,1]==\"b\"])\n",
    "#print(X.shape[1])"
   ]
  },
  {
   "cell_type": "markdown",
   "metadata": {},
   "source": [
    "## Building a Decision Tree\n",
    "\n",
    "Use a Python class to construct the decision tree. Your class should support the following functionality:\n",
    "\n",
    "1. Initiating a node for a decision tree. You will need to use several class methods and class attributes and you are free to use them as you see fit. We recommend that every node will hold the feature and value used for the split and its children.\n",
    "2. Your code should support both Gini and Entropy as impurity measures. \n",
    "3. The provided data includes categorical data. In this exercise, when splitting a node create the number of children needed according to the attribute unique values.\n",
    "\n",
    "Complete the class `DecisionNode`. The structure of this class is entirely up to you. \n",
    "\n",
    "Complete the function `build_tree`. This function should get the training dataset and the impurity as inputs, initiate a root for the decision tree and construct the tree according to the procedure you learned in class. (30 points)"
   ]
  },
  {
   "cell_type": "code",
   "execution_count": 13,
   "metadata": {},
   "outputs": [],
   "source": [
    "class DecisionNode:\n",
    "    \"\"\"\n",
    "    This class will hold everything you require to construct a decision tree.\n",
    "    The structure of this class is up to you. However, you need to support basic \n",
    "    functionality as described above. It is highly recommended that you \n",
    "    first read and understand the entire exercise before diving into this class.\n",
    "    \"\"\"\n",
    "    def __init__(self, feature, data, value):\n",
    "        self.feature = feature # column index of criteria being tested\n",
    "        self.value = value\n",
    "        self.data = data #to hold the sub group of instances, defined by the values along path from root\n",
    "        self.children = [] #list of children\n",
    "        self.parent = None #parent pointer\n",
    "        self.depth = 0\n",
    "        self.prob =  self.get_prob() \n",
    "    \n",
    "    # probability for edibility, based on current route \n",
    "    def get_prob (self):\n",
    "        p_e=self.data[self.data[:,-1]==\"e\"].shape[0]/self.data.shape[0]\n",
    "        return p_e\n",
    "    \n",
    "    # When adding a child, we update the self to be the parent, \n",
    "    # we update the depth of the child to be +1 the debt of the parent..\n",
    "    # debth can cause some problem - when adding a child that is also a parent, the depth of his children\n",
    "    # wont be updated, so  BFS operation is needed on the new child. \n",
    "    def add_child(self, child):\n",
    "        self.children.append(child)\n",
    "        child.parent = self\n",
    "        child.depth = self.depth + 1 \n",
    "\n",
    "    #unique array defined by feature and currnt data the node holds, children can be defined by it while building the tree\n",
    "    def get_values(self):\n",
    "        return np.unique(self.data[:,self.feature])\n",
    "\n",
    "def isLeaf(node):\n",
    "    return (len(node.children)==0)\n",
    "\n",
    "def find_best_feature(data, impurity, gain_ratio):\n",
    "    best_feature = (data.shape[1] + 1) #for creating an error messege\n",
    "    max_split_val = -float(\"inf\")\n",
    "    for feature in range(data.shape[1]-1): #last colum isn't a feature, its the lable.\n",
    "        temp_split_val = goodness_of_split(data, feature, impurity, gain_ratio)\n",
    "        #print(\"feature in test:\" , feature, \"goodness:\", temp_split_val)\n",
    "        if (temp_split_val > max_split_val):\n",
    "            max_split_val = temp_split_val\n",
    "            best_feature = feature \n",
    "    return best_feature "
   ]
  },
  {
   "cell_type": "code",
   "execution_count": 14,
   "metadata": {},
   "outputs": [],
   "source": [
    "def build_tree(data, impurity, gain_ratio=False, min_samples_split=1, max_depth=1000):\n",
    "    \"\"\"\n",
    "    Build a tree using the given impurity measure and training dataset. \n",
    "    You are required to fully grow the tree until all leaves are pure. \n",
    "\n",
    "    Input:\n",
    "    - data: the training dataset.\n",
    "    - impurity: the chosen impurity measure. Notice that you can send a function\n",
    "                as an argument in python.\n",
    "    - gain_ratio: goodness of split or gain ratio flag\n",
    "    - min_samples_split: the minimum number of samples required to split an internal node\n",
    "    - max_depth: the allowable depth of the tree\n",
    "\n",
    "    Output: the root node of the tree.\n",
    "    \"\"\"\n",
    "    root = None\n",
    "    ###########################################################################\n",
    "    # TODO: Implement the function.                                           #\n",
    "    ###########################################################################\n",
    "    stack = []\n",
    "    #best first feature to split by:\n",
    "    best_feature = find_best_feature(data, impurity, gain_ratio)\n",
    "    root = DecisionNode(best_feature, data, None)    \n",
    "    stack.append(root)\n",
    "    while (len(stack) > 0):\n",
    "        parent = stack.pop()\n",
    "        isPure = (parent.prob==1.0) or (parent.prob==0.0)\n",
    "        if (parent.feature == (data.shape[1] + 1)): continue\n",
    "        if ((parent.depth >= max_depth) or (parent.data.shape[0] <= min_samples_split) or (isPure)) : continue\n",
    "        if (goodness_of_split(parent.data, parent.feature, impurity, gain_ratio)==0.0): continue\n",
    "        values = parent.get_values()\n",
    "        for value in values:\n",
    "            child_data = parent.data[parent.data[:,parent.feature] == value]\n",
    "            child_feature = find_best_feature(child_data, impurity, gain_ratio)\n",
    "            child = DecisionNode(child_feature, child_data, value)\n",
    "            parent.add_child(child)\n",
    "            stack.append(child)\n",
    "        \n",
    "    ###########################################################################\n",
    "    #                             END OF YOUR CODE                            #\n",
    "    ###########################################################################\n",
    "    return root"
   ]
  },
  {
   "cell_type": "code",
   "execution_count": 15,
   "metadata": {
    "scrolled": false
   },
   "outputs": [],
   "source": [
    "# python supports passing a function as an argument to another function.\n",
    "tree_gini = build_tree(data=X_train, impurity=calc_gini) # gini and goodness of split\n",
    "tree_entropy = build_tree(data=X_train, impurity=calc_entropy) # entropy and goodness of split\n",
    "tree_gini_gain_ratio = build_tree(data=X_train, impurity=calc_gini, gain_ratio=True) # gini and gain ratio\n",
    "tree_entropy_gain_ratio = build_tree(data=X_train, impurity=calc_entropy, gain_ratio=True) # entropy and gain ratio\n",
    "#print_tree(tree_entropy)\n"
   ]
  },
  {
   "cell_type": "markdown",
   "metadata": {},
   "source": [
    "## Tree evaluation\n",
    "\n",
    "Complete the functions `predict` and `calc_accuracy`. "
   ]
  },
  {
   "cell_type": "code",
   "execution_count": 16,
   "metadata": {},
   "outputs": [],
   "source": [
    "def predict(node, instance):\n",
    "    \"\"\"\n",
    "    Predict a given instance using the decision tree\n",
    " \n",
    "    Input:\n",
    "    - root: the root of the decision tree.\n",
    "    - instance: an row vector from the dataset. Note that the last element \n",
    "                of this vector is the label of the instance.\n",
    " \n",
    "    Output: the prediction of the instance.\n",
    "    \"\"\"\n",
    "    pred = None\n",
    "    ###########################################################################\n",
    "    # TODO: Implement the function.                                           #\n",
    "    ###########################################################################\n",
    "    prob = 0.0\n",
    "    child_exist = True \n",
    "    while((node.prob != 1) and (node.prob != 0.0) and (node.feature != instance.shape[0]+1 ) and (child_exist)):\n",
    "        child_exist = False\n",
    "        for child in node.children:\n",
    "            if (instance[node.feature]==child.value):\n",
    "                node = child\n",
    "                prob = child.prob\n",
    "                child_exist = True\n",
    "                break #child if found, can exit the for loop\n",
    "            \n",
    "    if (prob>0.5):\n",
    "        pred =\"e\" \n",
    "    else: pred = \"p\"\n",
    "        \n",
    "    ###########################################################################\n",
    "    #                             END OF YOUR CODE                            #\n",
    "    ###########################################################################\n",
    "    return pred"
   ]
  },
  {
   "cell_type": "code",
   "execution_count": 17,
   "metadata": {},
   "outputs": [],
   "source": [
    "def calc_accuracy(node, dataset):\n",
    "    \"\"\"\n",
    "    Predict a given dataset using the decision tree\n",
    " \n",
    "    Input:\n",
    "    - node: a node in the decision tree.\n",
    "    - dataset: the dataset on which the accuracy is evaluated\n",
    " \n",
    "    Output: the accuracy of the decision tree on the given dataset (%).\n",
    "    \"\"\"\n",
    "    accuracy = 0\n",
    "    ###########################################################################\n",
    "    # TODO: Implement the function.                                           #\n",
    "    ###########################################################################\n",
    "    for row in range(dataset.shape[0]):\n",
    "        if (dataset[row,-1] == predict(node, dataset[row,:])):\n",
    "            accuracy +=1\n",
    "    accuracy /= dataset.shape[0]\n",
    "    ###########################################################################\n",
    "    #                             END OF YOUR CODE                            #\n",
    "    ###########################################################################\n",
    "    return accuracy "
   ]
  },
  {
   "cell_type": "markdown",
   "metadata": {},
   "source": [
    "After building the three trees using the training set, you should calculate the accuracy on the test set. For each tree print the training and test accuracy. Select the tree that gave you the best test accuracy. For the rest of the exercise, use that tree (when you asked to build another tree use the same impurity function and same gain_ratio flag). "
   ]
  },
  {
   "cell_type": "code",
   "execution_count": 18,
   "metadata": {},
   "outputs": [
    {
     "name": "stdout",
     "output_type": "stream",
     "text": [
      "Gini train acc: 0.9924503528639422 test acc: 0.7769571639586411\n",
      "Entropy train acc: 0.9940915805022157 test acc: 0.7813884785819794\n",
      "Gini & Gain train acc: 0.9954045626128344 test acc:    0.7897587395371738\n",
      "Entropy & Gain train acc: 0.9963892991957984 test acc: 0.7902511078286558\n"
     ]
    }
   ],
   "source": [
    "print(\"Gini train acc:\", calc_accuracy(tree_gini, X_train), \"test acc:\", calc_accuracy(tree_gini, X_test))\n",
    "print(\"Entropy train acc:\", calc_accuracy(tree_entropy, X_train), \"test acc:\", calc_accuracy(tree_entropy, X_test))\n",
    "print(\"Gini & Gain train acc:\", calc_accuracy(tree_gini_gain_ratio, X_train), \"test acc:   \", calc_accuracy(tree_gini_gain_ratio, X_test))\n",
    "print(\"Entropy & Gain train acc:\", calc_accuracy(tree_entropy_gain_ratio, X_train), \"test acc:\", calc_accuracy(tree_entropy_gain_ratio, X_test))"
   ]
  },
  {
   "cell_type": "markdown",
   "metadata": {},
   "source": [
    "## Depth pruning\n",
    "\n",
    "\n",
    "Consider the following max_depth values: [1, 2, 3, 4, 5, 6, 7, 8]. For each value, construct a tree and prune it according to the max_depth value = don't let the tree to grow beyond this depth. Next, calculate the training and testing accuracy.<br>\n",
    "On a single plot, draw the training and testing accuracy as a function of the max_depth. Mark the best result on the graph with red circle."
   ]
  },
  {
   "cell_type": "code",
   "execution_count": 19,
   "metadata": {},
   "outputs": [
    {
     "data": {
      "image/png": "[encoded data removed]",
      "text/plain": [
       "<Figure size 720x576 with 1 Axes>"
      ]
     },
     "metadata": {
      "needs_background": "light"
     },
     "output_type": "display_data"
    }
   ],
   "source": [
    "#### Your code here ####\n",
    "depths = np.array([1,2,3,4,5,6,7,8])\n",
    "acc_test = {}\n",
    "acc_train = {}\n",
    "for depth in depths:\n",
    "    temp_tree=build_tree(data=X_train, impurity=calc_entropy, gain_ratio=True, max_depth=depth)\n",
    "    acc_test[depth]=calc_accuracy(temp_tree,X_test)\n",
    "    acc_train[depth]=calc_accuracy(temp_tree,X_train)\n",
    "\n",
    "bestdepth = max(acc_test, key=acc_test.get)\n",
    "plt.scatter(bestdepth, acc_test[bestdepth], s=700, color='None',edgecolor = 'r')\n",
    "plt.plot(acc_test.keys(), acc_test.values())\n",
    "plt.plot( acc_train.keys(), acc_train.values())\n",
    "plt.legend(['Test','Train'])\n",
    "plt.xlabel('Depths')\n",
    "plt.ylabel('Accuracy')\n",
    "plt.title('Accuracy as function of tree depth')\n",
    "plt.show() "
   ]
  },
  {
   "cell_type": "markdown",
   "metadata": {},
   "source": [
    "## Min Samples Split\n",
    "\n",
    "Consider the following min_samples_split values: [1, 5, 10, 20, 50]. For each value, construct a tree and prune it according to the min_samples_split value = don't split a node if the number of sample in it is less or equal to the min_samples_split value. Next, calculate the training and testing accuracy.<br>\n",
    "On a single plot, draw the training and testing accuracy as a function of the min_samples_split. Mark the best result on the graph with red circle. (make sure that the x-axis ticks represent the values of min_samples_split)"
   ]
  },
  {
   "cell_type": "code",
   "execution_count": 20,
   "metadata": {},
   "outputs": [
    {
     "data": {
      "image/png": "[encoded data removed]",
      "text/plain": [
       "<Figure size 720x576 with 1 Axes>"
      ]
     },
     "metadata": {
      "needs_background": "light"
     },
     "output_type": "display_data"
    }
   ],
   "source": [
    "splits = np.array([1,5,10,20,50])\n",
    "acc_test = {}\n",
    "acc_train = {}\n",
    "for split in splits:\n",
    "    temp_tree=build_tree(data=X_train, impurity=calc_entropy, gain_ratio=True, min_samples_split=split)\n",
    "    acc_test[split]=calc_accuracy(temp_tree,X_test)\n",
    "    acc_train[split]=calc_accuracy(temp_tree,X_train)\n",
    "\n",
    "bestsplit = max(acc_test, key=acc_test.get)\n",
    "plt.scatter(bestsplit, acc_test[bestsplit], s=700, color='None',edgecolor = 'r')\n",
    "plt.plot(acc_test.keys(), acc_test.values())\n",
    "plt.plot( acc_train.keys(), acc_train.values())\n",
    "plt.legend(['Test','Train'])\n",
    "plt.xlabel('Max Split')\n",
    "plt.ylabel('Accuracy')\n",
    "plt.title('Accuracy as function of tree depth')\n",
    "plt.show() "
   ]
  },
  {
   "cell_type": "markdown",
   "metadata": {},
   "source": [
    "Build the best 2 trees:\n",
    "1. tree_max_depth - the best tree according to max_depth pruning\n",
    "1. tree_min_samples_split - the best tree according to min_samples_split pruning"
   ]
  },
  {
   "cell_type": "code",
   "execution_count": 21,
   "metadata": {},
   "outputs": [],
   "source": [
    "tree_max_depth = build_tree(data=X_train, impurity=calc_entropy, gain_ratio=True, max_depth=bestdepth)\n",
    "tree_min_samples_split = build_tree(data=X_train, impurity=calc_entropy, gain_ratio=True, min_samples_split=bestsplit)\n"
   ]
  },
  {
   "cell_type": "markdown",
   "metadata": {},
   "source": [
    "## Number of Nodes\n",
    "\n",
    "\n",
    "Complete the function counts_nodes and print the number of nodes in each tree and print the number of nodes of the two trees above"
   ]
  },
  {
   "cell_type": "code",
   "execution_count": 22,
   "metadata": {},
   "outputs": [
    {
     "name": "stdout",
     "output_type": "stream",
     "text": [
      "205\n",
      "349\n"
     ]
    }
   ],
   "source": [
    "def count_nodes(node):\n",
    "    \"\"\"\n",
    "    Count the number of node in a given tree\n",
    " \n",
    "    Input:\n",
    "    - node: a node in the decision tree.\n",
    " \n",
    "    Output: the number of node in the tree.\n",
    "    \"\"\"\n",
    "    ###########################################################################\n",
    "    # TODO: Implement the function.                                           #\n",
    "    ###########################################################################\n",
    "    counter = 1\n",
    "    for child in node.children:\n",
    "        counter += count_nodes(child)\n",
    "    return counter \n",
    "    ###########################################################################\n",
    "    #                             END OF YOUR CODE                            #\n",
    "    ###########################################################################\n",
    "print(count_nodes(tree_max_depth))\n",
    "print(count_nodes(tree_min_samples_split))"
   ]
  },
  {
   "cell_type": "markdown",
   "metadata": {},
   "source": [
    "## Print the tree\n",
    "\n",
    "Complete the function `print_tree`. Your tree should be visualized clearly. You can use the following example as a reference:\n",
    "```\n",
    "[ROOT, feature=X0],\n",
    "  [X0=a, feature=X2]\n",
    "    [X2=c, leaf]: [{1.0: 10}]\n",
    "    [X2=d, leaf]: [{0.0: 10}]\n",
    "  [X0=y, feature=X5], \n",
    "    [X5=a, leaf]: [{1.0: 5}]\n",
    "    [X5=s, leaf]: [{0.0: 10}]\n",
    "  [X0=e, leaf]: [{0.0: 25, 1.0: 50}]\n",
    "```\n",
    "In each brackets:\n",
    "* The first argument is the parent feature with the value that led to current node\n",
    "* The second argument is the selected feature of the current node\n",
    "* If the current node is a leaf, you need to print also the labels and their counts\n"
   ]
  },
  {
   "cell_type": "code",
   "execution_count": 31,
   "metadata": {},
   "outputs": [],
   "source": [
    "# you can change the function signeture\n",
    "def print_tree(node, depth=0, parent_feature='ROOT', feature_val='ROOT'):\n",
    "    '''\n",
    "    prints the tree according to the example above\n",
    "\n",
    "    Input:\n",
    "    - node: a node in the decision tree\n",
    "\n",
    "    This function has no return value\n",
    "    '''\n",
    "    ###########################################################################\n",
    "    # TODO: Implement the function.                                           #\n",
    "    ###########################################################################\n",
    "    string = \"\"\n",
    "    for i in range(node.depth):\n",
    "        string += \"  \"\n",
    "    if isLeaf(node):\n",
    "        instances=node.data.shape[0]\n",
    "        print(string, \"[\", parent_feature, \", leaf]: [{e:\",round(node.prob*instances),\", p:\", round((1.0-node.prob)*instances), \"}]\" )\n",
    "    else:\n",
    "        print(string, \"[\", parent_feature, \", feature =\", feature_val, \"]\")\n",
    "    for child in node.children:\n",
    "        temp = str(node.feature) + \"=\" + str(child.value)\n",
    "        print_tree(child,parent_feature=temp,feature_val=child.feature)\n",
    "    ###########################################################################\n",
    "    #                             END OF YOUR CODE                            #\n",
    "    ###########################################################################\n",
    "#print_tree(tree_min_samples_split,feature_val=tree_min_samples_split.feature )"
   ]
  },
  {
   "cell_type": "markdown",
   "metadata": {},
   "source": [
    "print the tree with the best test accuracy and with less than 50 nodes (from the two pruning methods)"
   ]
  },
  {
   "cell_type": "code",
   "execution_count": 33,
   "metadata": {},
   "outputs": [
    {
     "name": "stdout",
     "output_type": "stream",
     "text": [
      "The Best tree with the split and depth combintaion, that has less than 50 nodes is:\n",
      " [ ROOT , feature = 4 ]\n",
      "   [ 4=a , leaf]: [{e: 273 , p: 31 }]\n",
      "   [ 4=c , leaf]: [{e: 10 , p: 137 }]\n",
      "   [ 4=f , leaf]: [{e: 170 , p: 1438 }]\n",
      "   [ 4=l , leaf]: [{e: 272 , p: 27 }]\n",
      "   [ 4=m , leaf]: [{e: 2 , p: 25 }]\n",
      "   [ 4=n , leaf]: [{e: 2332 , p: 344 }]\n",
      "   [ 4=p , leaf]: [{e: 8 , p: 175 }]\n",
      "   [ 4=s , leaf]: [{e: 38 , p: 380 }]\n",
      "   [ 4=y , leaf]: [{e: 49 , p: 382 }]\n"
     ]
    }
   ],
   "source": [
    "splits = np.array([1,5,10,20,50])\n",
    "depths = np.array([1,2,3,4,5,6,7,8])\n",
    "\n",
    "#finally_over = DecisionNode(None, None, None)\n",
    "max_acc=0.0\n",
    "for split in splits:\n",
    "    for depth in depths: \n",
    "        temp_tree = build_tree(data=X_train, impurity=calc_entropy, gain_ratio=True, min_samples_split=split, max_depth=depth)\n",
    "        temp_acc = calc_accuracy(temp_tree, X_test)\n",
    "        if (count_nodes(temp_tree)<50) and (temp_acc>max_acc):\n",
    "            max_acc = temp_acc\n",
    "            finally_over=temp_tree\n",
    "print(\"The Best tree with the split and depth combintaion, that has less than 50 nodes is:\")\n",
    "print_tree(finally_over ,feature_val=finally_over.feature)"
   ]
  }
 ],
 "metadata": {
  "celltoolbar": "Create Assignment",
  "kernelspec": {
   "display_name": "Python 3 (ipykernel)",
   "language": "python",
   "name": "python3"
  },
  "language_info": {
   "codemirror_mode": {
    "name": "ipython",
    "version": 3
   },
   "file_extension": ".py",
   "mimetype": "text/x-python",
   "name": "python",
   "nbconvert_exporter": "python",
   "pygments_lexer": "ipython3",
   "version": "3.8.12"
  }
 },
 "nbformat": 4,
 "nbformat_minor": 4
}
